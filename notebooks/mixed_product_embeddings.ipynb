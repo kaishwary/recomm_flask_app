{
 "cells": [
  {
   "cell_type": "markdown",
   "id": "d2a46066-0260-4a19-a6fa-e62ff276d330",
   "metadata": {},
   "source": [
    "## Load relevant libraries"
   ]
  },
  {
   "cell_type": "code",
   "execution_count": 2,
   "id": "c9358af7-e09e-4541-a82d-65e6585d89b0",
   "metadata": {},
   "outputs": [
    {
     "name": "stderr",
     "output_type": "stream",
     "text": [
      "[nltk_data] Downloading package wordnet to /Users/mrpapa/nltk_data...\n",
      "[nltk_data]   Package wordnet is already up-to-date!\n"
     ]
    }
   ],
   "source": [
    "import os\n",
    "\n",
    "import numpy as np\n",
    "import pandas as pd\n",
    "from pandas.core.common import flatten\n",
    "from annoy import AnnoyIndex\n",
    "from gensim.models import Word2Vec\n",
    "from efficient_apriori import apriori\n",
    "import seaborn as sns\n",
    "\n",
    "import nltk\n",
    "nltk.download('wordnet')\n",
    "\n",
    "from tqdm import tqdm\n",
    "import zipfile as zp\n",
    "from art import *\n",
    "import matplotlib.pyplot as plt\n",
    "\n",
    "from sklearn.manifold import TSNE\n",
    "import matplotlib.pyplot as plt\n",
    "\n",
    "import plotly.offline as pyo\n",
    "import plotly.graph_objs as go\n",
    "from plotly.tools import FigureFactory as FF\n",
    "import plotly.express as px\n",
    "\n",
    "# from PyDictionary import PyDictionary P\n",
    "import random\n",
    "import time\n",
    "\n",
    "#import scikitplot as skplt\n",
    "\n",
    "#to enable the inline plotting\n",
    "%matplotlib inline \n",
    "\n",
    "import warnings\n",
    "warnings.filterwarnings('ignore')"
   ]
  },
  {
   "cell_type": "markdown",
   "id": "4058fd26-6325-4145-9309-8bb117895ce4",
   "metadata": {},
   "source": [
    "## Load Data and Pre-processing"
   ]
  },
  {
   "cell_type": "code",
   "execution_count": 3,
   "id": "fdfbab0b-912d-40ef-a617-c8589dd2c110",
   "metadata": {},
   "outputs": [],
   "source": [
    "# Change to location of data (Instacart Market Basket Analysis Kaggle data)\n",
    "data_dir = os.path.join(os.path.dirname(os.getcwd()), 'data')"
   ]
  },
  {
   "cell_type": "code",
   "execution_count": 4,
   "id": "7ec69953-eb69-477d-bf3a-54001e3ec95f",
   "metadata": {},
   "outputs": [],
   "source": [
    "# Reading the csv files into corresponding dataframes\n",
    "# Load products, aisles and departments\n",
    "products = pd.read_csv(os.path.join(data_dir, \"products.csv\"))\n",
    "aisles = pd.read_csv(os.path.join(data_dir, \"aisles.csv\"))\n",
    "departments = pd.read_csv(os.path.join(data_dir, \"departments.csv\"))\n",
    "\n",
    "# Load orders dataset\n",
    "orders = pd.read_csv(os.path.join(data_dir, \"orders.csv\"))\n",
    "order_products_prior = pd.read_csv(os.path.join(data_dir, \"order_products__prior.csv\"))\n",
    "order_products_train = pd.read_csv(os.path.join(data_dir, \"order_products__train.csv\"))\n",
    "\n",
    "# Replacing numbers with their corresponding day of week\n",
    "days_of_week = {0: 'Saturday', \n",
    "                1: 'Sunday', \n",
    "                2: 'Monday',\n",
    "                3: 'Tuesday',\n",
    "                4: 'Wednesday',\n",
    "                5: 'Thursday',\n",
    "                6: 'Friday'}\n",
    "# Define the categories of days of week sorted normally from Saturday to Friday\n",
    "orders['order_dow'] = orders['order_dow'].replace(to_replace=days_of_week)\n",
    "orders['order_dow'] = pd.Categorical(orders['order_dow'], \n",
    "                                     ordered=True, \n",
    "                                     categories=list(days_of_week.values()))\n",
    "\n",
    "orders['daytime'] = orders['order_dow'].astype('str') + orders['order_hour_of_day'].astype('str')"
   ]
  },
  {
   "cell_type": "code",
   "execution_count": 5,
   "id": "8f6a6da9-ed68-4d24-a086-95601bddd992",
   "metadata": {},
   "outputs": [],
   "source": [
    "## Product name stemming and lemmatisation\n",
    "products['products_mod'] = products['product_name'].str.lower()\n",
    "# Clean special characters.\n",
    "products['products_mod'] = products['products_mod'].str.replace('\\W', ' ', regex=True)\n",
    "# Split products into terms: Tokenize.\n",
    "products['products_mod'] = products['products_mod'].str.split()\n",
    "# Merge the department and aisle names into the dataframe. \n",
    "products = pd.merge(products, departments, on=\"department_id\", how='outer')\n",
    "products = pd.merge(products, aisles, on=\"aisle_id\", how='outer')\n",
    "# Remove synonyms here in the list\n",
    "products['products_mod'] = products[['products_mod', 'aisle', 'department']].values.tolist()\n",
    "products['products_mod'] = products['products_mod'].apply(lambda x:list(flatten(x)))\n",
    "\n",
    "lemma = nltk.wordnet.WordNetLemmatizer()\n",
    "sno = nltk.stem.SnowballStemmer('english')\n",
    "products['products_lemma'] = products['products_mod'].apply(lambda row:[lemma.lemmatize(item) for item in row])\n",
    "products['products_lemma'] = products['products_lemma'].apply(lambda row:[sno.stem(item) for item in row])"
   ]
  },
  {
   "cell_type": "code",
   "execution_count": 6,
   "id": "9b19c391-4df8-4620-a0e9-e896234d435e",
   "metadata": {},
   "outputs": [],
   "source": [
    "order_products_prior = order_products_prior.merge(products[['product_id', 'department_id', 'aisle_id']], on='product_id')"
   ]
  },
  {
   "cell_type": "code",
   "execution_count": 7,
   "id": "a446c069-dce4-472e-bdba-e1a7fa9a1dd5",
   "metadata": {},
   "outputs": [],
   "source": [
    "## Group all products for a single order into a list\n",
    "## This will be later used to generate embeddings\n",
    "order_baskets = order_products_prior.groupby('order_id')['product_id'].apply(list)"
   ]
  },
  {
   "cell_type": "code",
   "execution_count": 8,
   "id": "8ce101a1-314a-4e1f-bb2d-790081255934",
   "metadata": {},
   "outputs": [
    {
     "name": "stdout",
     "output_type": "stream",
     "text": [
      "CPU times: user 1min 48s, sys: 49.5 s, total: 2min 38s\n",
      "Wall time: 2min 59s\n"
     ]
    }
   ],
   "source": [
    "%%time\n",
    "department_basket = order_products_prior.groupby('order_id')['department_id'].apply(list)\n",
    "aisle_basket = order_products_prior.groupby('order_id')['aisle_id'].apply(list)\n",
    "\n",
    "department_basket_unique = department_basket.apply(lambda x: list(set(x)))\n",
    "aisle_basket_unique = aisle_basket.apply(lambda x: list(set(x)))"
   ]
  },
  {
   "cell_type": "markdown",
   "id": "5fec304f-0e20-4cb3-9829-408f48ccb5ff",
   "metadata": {},
   "source": [
    "## Word2Vec models"
   ]
  },
  {
   "cell_type": "code",
   "execution_count": 72,
   "id": "c673230d-6803-4c95-86d0-b292eae7e5b3",
   "metadata": {},
   "outputs": [],
   "source": [
    "## Config\n",
    "WORD_VECTOR_SIZE = 8\n",
    "PRODUCT_VECTOR_SIZE = 64\n",
    "DEPARTMENT_VECTOR_SIZE = 2\n",
    "AISLE_VECTOR_SIZE = 64"
   ]
  },
  {
   "cell_type": "code",
   "execution_count": 73,
   "id": "163c3898-59c5-496c-96f8-36eec504298e",
   "metadata": {},
   "outputs": [
    {
     "name": "stderr",
     "output_type": "stream",
     "text": [
      "49688it [00:01, 28349.08it/s]\n"
     ]
    }
   ],
   "source": [
    "### Training the `Word2Vec` model based on product lemma\n",
    "\n",
    "# Defining the maximun window\n",
    "window_max = max(products['products_lemma'].apply(lambda x:len(x)))\n",
    "\n",
    "# size=20: In order to make `Word2Vec` a little bit quicker and for memory efficiency we're going to use 20 dimensions.\n",
    "# window=49: In order to make sure all words are used in training the model, we're going to set a large.\n",
    "w2vec_model = Word2Vec(list(products['products_lemma']), vector_size=WORD_VECTOR_SIZE, window=window_max, min_count=1, workers=6)\n",
    "\n",
    "### Vector calculation for products\n",
    "# Loop through each product and obtain the average of each string that makes a product. <br>\n",
    "# This will be the vector representation of the product. <br>\n",
    "# The vector representation of the product will be used to calculate the similarity between products. <br>\n",
    "# The similarity between products will be used to recommend products to the user. <br>\n",
    "\n",
    "# Loop through each word in the product name to generate the vector.\n",
    "prods_w2v = dict()\n",
    "for row, product in tqdm(products.iterrows()):\n",
    "    word_vector = list()\n",
    "    for word in product['products_lemma']:\n",
    "        word_vector.append(w2vec_model.wv[word])\n",
    "\n",
    "    prods_w2v[product['product_id']] = np.average(word_vector, axis=0)\n",
    "\n",
    "# Save vector values in list form to the dataframe.\n",
    "products['vectors_word'] = prods_w2v.values()"
   ]
  },
  {
   "cell_type": "code",
   "execution_count": 38,
   "id": "806ca3dc-2f64-406d-ad8b-2d60cee4e2e6",
   "metadata": {},
   "outputs": [
    {
     "name": "stdout",
     "output_type": "stream",
     "text": [
      "CPU times: user 6min 36s, sys: 11.3 s, total: 6min 47s\n",
      "Wall time: 1min 44s\n"
     ]
    }
   ],
   "source": [
    "%%time\n",
    "### Training the `Word2Vec` model based on cart\n",
    "# products which are ordered together will be closer in vector space\n",
    "\n",
    "# Define maximum window for longest order cart\n",
    "window_max = order_baskets.apply(len).max()\n",
    "\n",
    "# w2vec model\n",
    "w2vec_model = Word2Vec(list(order_baskets), vector_size=PRODUCT_VECTOR_SIZE, window=window_max, min_count=1, workers=6)\n",
    "\n",
    "# get vectors for each product\n",
    "products['vectors_product'] = products.product_id.apply(lambda x: w2vec_model.wv[x])"
   ]
  },
  {
   "cell_type": "code",
   "execution_count": 74,
   "id": "bbcc20c7-6f4f-4b8c-993c-0e845c74bbd4",
   "metadata": {},
   "outputs": [
    {
     "name": "stdout",
     "output_type": "stream",
     "text": [
      "CPU times: user 25.4 s, sys: 3.66 s, total: 29 s\n",
      "Wall time: 27.2 s\n"
     ]
    }
   ],
   "source": [
    "%%time\n",
    "# # Define maximum window for longest order cart\n",
    "window_max = department_basket.apply(len).max()\n",
    "\n",
    "# w2vec model\n",
    "w2vec_model = Word2Vec(list(department_basket), vector_size=DEPARTMENT_VECTOR_SIZE, window=window_max, min_count=1, workers=6)\n",
    "\n",
    "# get vectors for each product\n",
    "products['vectors_aisle'] = products.department_id.apply(lambda x: w2vec_model.wv[x])\n",
    "\n",
    "# Define maximum window for longest order cart\n",
    "# window_max = aisle_basket.apply(len).max()\n",
    "\n",
    "# # w2vec model\n",
    "# w2vec_model = Word2Vec(list(aisle_basket), vector_size=AISLE_VECTOR_SIZE, window=window_max, min_count=1, workers=-1)\n",
    "\n",
    "# # get vectors for each product\n",
    "# products['vectors_aisle'] = products.aisle_id.apply(lambda x: w2vec_model.wv[x])"
   ]
  },
  {
   "cell_type": "code",
   "execution_count": 14,
   "id": "56e56e5f-9683-4e7b-88b0-1b060f0116c4",
   "metadata": {
    "jupyter": {
     "source_hidden": true
    }
   },
   "outputs": [],
   "source": [
    "# ## Save plotly html interactive plot of tsne visualization\n",
    "\n",
    "# aisle = products[['aisle', 'vectors_aisle']].drop_duplicates('aisle').reset_index(drop=True)\n",
    "\n",
    "# # # Apply t-SNE\n",
    "# labels = aisle['aisle']\n",
    "# vectors = np.array(aisle['vectors_aisle'].tolist())\n",
    "\n",
    "# tsne = TSNE(n_components=2, random_state=42)\n",
    "# embedded_vectors = tsne.fit_transform(vectors)\n",
    "\n",
    "# # Create a DataFrame for the embedded vectors\n",
    "# embedded_df = pd.DataFrame(embedded_vectors, columns=['Dimension 1', 'Dimension 2'])\n",
    "# embedded_df['aisle'] = labels\n",
    "# embedded_df = embedded_df.merge(products[['aisle', 'department']].drop_duplicates(), on='aisle', how='left')\n",
    "\n",
    "# # Create an interactive scatter plot with Plotly\n",
    "# fig = px.scatter(embedded_df, x='Dimension 1', y='Dimension 2', hover_data=['aisle'], color='department')\n",
    "\n",
    "\n",
    "# fig.write_html(\"aisle.html\")"
   ]
  },
  {
   "cell_type": "code",
   "execution_count": 75,
   "id": "85bebd9d-5dab-4ae3-a8be-9c5ee6d53b40",
   "metadata": {},
   "outputs": [],
   "source": [
    "## Concatenate all vectors together to form a single representation of product embedding\n",
    "products['vectors'] = products.apply(lambda x: [*x['vectors_word'], *x['vectors_product'], *x['vectors_aisle']], axis=1)\n",
    "# products['vectors'] = products['vectors_product']"
   ]
  },
  {
   "cell_type": "code",
   "execution_count": 84,
   "id": "a4d50d9b-ad5b-4c6f-bc31-c2b0c7d739c6",
   "metadata": {},
   "outputs": [],
   "source": [
    "## Using `annoy` model to calculate the similarity between products\n",
    "def annoy_build(df, id, vector_size, metric='euclidean'):\n",
    "    trees = 10\n",
    "    m = AnnoyIndex(vector_size, metric=metric) \n",
    "    m.set_seed(42)\n",
    "    for _, row in df.iterrows():\n",
    "        m.add_item(row[id], row['vectors'])\n",
    "    m.build(trees)\n",
    "    return m"
   ]
  },
  {
   "cell_type": "code",
   "execution_count": 85,
   "id": "0cdb548e-1cc8-4c7c-8a47-b6a48308aa9b",
   "metadata": {},
   "outputs": [
    {
     "name": "stdout",
     "output_type": "stream",
     "text": [
      "CPU times: user 1.64 s, sys: 176 ms, total: 1.82 s\n",
      "Wall time: 1.6 s\n"
     ]
    }
   ],
   "source": [
    "%%time\n",
    "### Train `annoy` for `product` dataset\n",
    "\n",
    "# Specify the metric to be used for computing distances. \n",
    "p = annoy_build(products, 'product_id', len(products['vectors'][0]))"
   ]
  },
  {
   "cell_type": "code",
   "execution_count": 18,
   "id": "20f090cf-c787-419a-9f46-2a7a3531d225",
   "metadata": {},
   "outputs": [],
   "source": [
    "## Create order cart embeddings"
   ]
  },
  {
   "cell_type": "markdown",
   "id": "18c86ce4-0981-453c-b546-3eb05605f742",
   "metadata": {},
   "source": [
    "## Testing vector embeddings"
   ]
  },
  {
   "cell_type": "code",
   "execution_count": 19,
   "id": "0bfd96f0-dede-4b18-8cea-0c8240b8e451",
   "metadata": {},
   "outputs": [],
   "source": [
    "prod_dict = dict(zip(products.product_id, products.product_name))"
   ]
  },
  {
   "cell_type": "code",
   "execution_count": 171,
   "id": "b315b93b-5c97-4605-9f99-ab7a86e216ad",
   "metadata": {},
   "outputs": [
    {
     "data": {
      "text/html": [
       "<div>\n",
       "<style scoped>\n",
       "    .dataframe tbody tr th:only-of-type {\n",
       "        vertical-align: middle;\n",
       "    }\n",
       "\n",
       "    .dataframe tbody tr th {\n",
       "        vertical-align: top;\n",
       "    }\n",
       "\n",
       "    .dataframe thead th {\n",
       "        text-align: right;\n",
       "    }\n",
       "</style>\n",
       "<table border=\"1\" class=\"dataframe\">\n",
       "  <thead>\n",
       "    <tr style=\"text-align: right;\">\n",
       "      <th></th>\n",
       "      <th>product_name</th>\n",
       "      <th>department</th>\n",
       "      <th>aisle</th>\n",
       "    </tr>\n",
       "  </thead>\n",
       "  <tbody>\n",
       "    <tr>\n",
       "      <th>0</th>\n",
       "      <td>Chicken Corn Taquitos</td>\n",
       "      <td>frozen</td>\n",
       "      <td>frozen meals</td>\n",
       "    </tr>\n",
       "    <tr>\n",
       "      <th>1</th>\n",
       "      <td>Thai Style Yellow Curry Chicken</td>\n",
       "      <td>frozen</td>\n",
       "      <td>frozen meals</td>\n",
       "    </tr>\n",
       "    <tr>\n",
       "      <th>2</th>\n",
       "      <td>Cajun Style Chicken Alfredo</td>\n",
       "      <td>frozen</td>\n",
       "      <td>frozen meals</td>\n",
       "    </tr>\n",
       "    <tr>\n",
       "      <th>3</th>\n",
       "      <td>Cafe Steamers Creamy Chicken &amp; Noodles</td>\n",
       "      <td>frozen</td>\n",
       "      <td>frozen meals</td>\n",
       "    </tr>\n",
       "    <tr>\n",
       "      <th>4</th>\n",
       "      <td>Steak &amp; Jalapeno Burrito</td>\n",
       "      <td>frozen</td>\n",
       "      <td>frozen meals</td>\n",
       "    </tr>\n",
       "    <tr>\n",
       "      <th>5</th>\n",
       "      <td>Burgers, Gourmet</td>\n",
       "      <td>frozen</td>\n",
       "      <td>frozen meals</td>\n",
       "    </tr>\n",
       "    <tr>\n",
       "      <th>6</th>\n",
       "      <td>Parmesan Garlic Bread</td>\n",
       "      <td>frozen</td>\n",
       "      <td>frozen appetizers sides</td>\n",
       "    </tr>\n",
       "    <tr>\n",
       "      <th>7</th>\n",
       "      <td>Small Round Cheese Ravioli</td>\n",
       "      <td>frozen</td>\n",
       "      <td>frozen meals</td>\n",
       "    </tr>\n",
       "    <tr>\n",
       "      <th>8</th>\n",
       "      <td>Roasted Vegetable &amp; Goat Cheese Flatbread Crus...</td>\n",
       "      <td>frozen</td>\n",
       "      <td>frozen pizza</td>\n",
       "    </tr>\n",
       "    <tr>\n",
       "      <th>9</th>\n",
       "      <td>Chimichangas Beef Bean</td>\n",
       "      <td>frozen</td>\n",
       "      <td>frozen meals</td>\n",
       "    </tr>\n",
       "    <tr>\n",
       "      <th>10</th>\n",
       "      <td>Buffalo Style MAC</td>\n",
       "      <td>frozen</td>\n",
       "      <td>frozen meals</td>\n",
       "    </tr>\n",
       "    <tr>\n",
       "      <th>11</th>\n",
       "      <td>Italian Style Breaded Chicken Patties</td>\n",
       "      <td>frozen</td>\n",
       "      <td>frozen meat seafood</td>\n",
       "    </tr>\n",
       "    <tr>\n",
       "      <th>12</th>\n",
       "      <td>Roasted Chicken Risotto</td>\n",
       "      <td>frozen</td>\n",
       "      <td>frozen meals</td>\n",
       "    </tr>\n",
       "    <tr>\n",
       "      <th>13</th>\n",
       "      <td>Buffalo Style Breaded Chicken Wings</td>\n",
       "      <td>frozen</td>\n",
       "      <td>frozen appetizers sides</td>\n",
       "    </tr>\n",
       "    <tr>\n",
       "      <th>14</th>\n",
       "      <td>Spiced Chicken Morocco</td>\n",
       "      <td>frozen</td>\n",
       "      <td>frozen meals</td>\n",
       "    </tr>\n",
       "  </tbody>\n",
       "</table>\n",
       "</div>"
      ],
      "text/plain": [
       "                                         product_name department  \\\n",
       "0                               Chicken Corn Taquitos     frozen   \n",
       "1                     Thai Style Yellow Curry Chicken     frozen   \n",
       "2                         Cajun Style Chicken Alfredo     frozen   \n",
       "3              Cafe Steamers Creamy Chicken & Noodles     frozen   \n",
       "4                            Steak & Jalapeno Burrito     frozen   \n",
       "5                                    Burgers, Gourmet     frozen   \n",
       "6                               Parmesan Garlic Bread     frozen   \n",
       "7                          Small Round Cheese Ravioli     frozen   \n",
       "8   Roasted Vegetable & Goat Cheese Flatbread Crus...     frozen   \n",
       "9                              Chimichangas Beef Bean     frozen   \n",
       "10                                  Buffalo Style MAC     frozen   \n",
       "11              Italian Style Breaded Chicken Patties     frozen   \n",
       "12                            Roasted Chicken Risotto     frozen   \n",
       "13                Buffalo Style Breaded Chicken Wings     frozen   \n",
       "14                             Spiced Chicken Morocco     frozen   \n",
       "\n",
       "                      aisle  \n",
       "0              frozen meals  \n",
       "1              frozen meals  \n",
       "2              frozen meals  \n",
       "3              frozen meals  \n",
       "4              frozen meals  \n",
       "5              frozen meals  \n",
       "6   frozen appetizers sides  \n",
       "7              frozen meals  \n",
       "8              frozen pizza  \n",
       "9              frozen meals  \n",
       "10             frozen meals  \n",
       "11      frozen meat seafood  \n",
       "12             frozen meals  \n",
       "13  frozen appetizers sides  \n",
       "14             frozen meals  "
      ]
     },
     "execution_count": 171,
     "metadata": {},
     "output_type": "execute_result"
    }
   ],
   "source": [
    "# input_name = ['Hair Balance Shampoo', 'Gillette Sensor 3 Disposable Razors']\n",
    "input_name = ['Stuffed Pasta Shells']\n",
    "# input_name = ['Hair Balance Shampoo', 'Gillette Sensor 3 Disposable Razors']\n",
    "\n",
    "selected = products[products.product_name.isin(input_name)]\n",
    "prod_vector = np.average(selected.vectors.tolist(), axis=0)\n",
    "\n",
    "nns_prod_w_d = p.get_nns_by_vector(prod_vector, 20 + len(input_name), include_distances=True)\n",
    "sel_df = pd.DataFrame({\"product_id\": nns_prod_w_d[0], \"distance\": nns_prod_w_d[1]}).merge(products, on='product_id', how='inner')\n",
    "sel_df = sel_df[~sel_df.product_id.isin(selected.product_id.tolist())]\n",
    "sel_df[['product_name', 'department', 'aisle']].head(15).reset_index(drop=True)"
   ]
  },
  {
   "cell_type": "markdown",
   "id": "465e3279-f24f-4618-b237-76b2fbb8c6b4",
   "metadata": {},
   "source": [
    "## Order cart embedding"
   ]
  },
  {
   "cell_type": "code",
   "execution_count": 83,
   "id": "fb6fbb2c-ed95-4d9f-ac8b-b493456e1ac8",
   "metadata": {},
   "outputs": [
    {
     "name": "stderr",
     "output_type": "stream",
     "text": [
      "3214874it [02:03, 25968.41it/s]\n"
     ]
    },
    {
     "name": "stdout",
     "output_type": "stream",
     "text": [
      "CPU times: user 1min 57s, sys: 7.61 s, total: 2min 4s\n",
      "Wall time: 2min 6s\n"
     ]
    }
   ],
   "source": [
    "%%time\n",
    "### Train `annoy` for `orders` dataset\n",
    "order_w2v = dict()\n",
    "for index, row in tqdm(order_baskets.items()):\n",
    "    word_vector = list()\n",
    "    for item_id in row:\n",
    "        word_vector.append(p.get_item_vector(item_id))\n",
    "    order_w2v[index] = np.average(word_vector, axis=0)\n",
    "\n",
    "df_order_baskets = pd.DataFrame({'order_id': order_baskets.index, 'product_id': order_baskets.values})\n",
    "df_order_baskets['vectors'] = order_w2v.values()\n",
    "\n",
    "# Specify the metric to be used for computing distances. \n",
    "b = annoy_build(df_order_baskets, 'order_id', len(df_order_baskets['vectors'][0]))"
   ]
  },
  {
   "cell_type": "code",
   "execution_count": 172,
   "id": "2fde888d-dd66-47ef-9957-463aa985cda0",
   "metadata": {},
   "outputs": [
    {
     "data": {
      "text/html": [
       "<div>\n",
       "<style scoped>\n",
       "    .dataframe tbody tr th:only-of-type {\n",
       "        vertical-align: middle;\n",
       "    }\n",
       "\n",
       "    .dataframe tbody tr th {\n",
       "        vertical-align: top;\n",
       "    }\n",
       "\n",
       "    .dataframe thead th {\n",
       "        text-align: right;\n",
       "    }\n",
       "</style>\n",
       "<table border=\"1\" class=\"dataframe\">\n",
       "  <thead>\n",
       "    <tr style=\"text-align: right;\">\n",
       "      <th></th>\n",
       "      <th>product_name</th>\n",
       "      <th>department</th>\n",
       "      <th>aisle</th>\n",
       "    </tr>\n",
       "  </thead>\n",
       "  <tbody>\n",
       "    <tr>\n",
       "      <th>0</th>\n",
       "      <td>Asian Noodles Teriyaki</td>\n",
       "      <td>international</td>\n",
       "      <td>asian foods</td>\n",
       "    </tr>\n",
       "    <tr>\n",
       "      <th>1</th>\n",
       "      <td>Mini Beef Corn Dogs</td>\n",
       "      <td>frozen</td>\n",
       "      <td>frozen appetizers sides</td>\n",
       "    </tr>\n",
       "    <tr>\n",
       "      <th>2</th>\n",
       "      <td>New York City Slices Gourmet Pizza</td>\n",
       "      <td>frozen</td>\n",
       "      <td>frozen pizza</td>\n",
       "    </tr>\n",
       "    <tr>\n",
       "      <th>3</th>\n",
       "      <td>Hot Buffalo Wings Potato Chips</td>\n",
       "      <td>deli</td>\n",
       "      <td>prepared meals</td>\n",
       "    </tr>\n",
       "    <tr>\n",
       "      <th>4</th>\n",
       "      <td>Twice Baked Potato</td>\n",
       "      <td>deli</td>\n",
       "      <td>prepared meals</td>\n",
       "    </tr>\n",
       "    <tr>\n",
       "      <th>5</th>\n",
       "      <td>Tuscan Inspired Uncured Two Meat Pizza</td>\n",
       "      <td>frozen</td>\n",
       "      <td>frozen meals</td>\n",
       "    </tr>\n",
       "    <tr>\n",
       "      <th>6</th>\n",
       "      <td>Broccoli &amp; Cheese Couscous</td>\n",
       "      <td>dry goods pasta</td>\n",
       "      <td>instant foods</td>\n",
       "    </tr>\n",
       "    <tr>\n",
       "      <th>7</th>\n",
       "      <td>Chicken Empanadas</td>\n",
       "      <td>frozen</td>\n",
       "      <td>frozen appetizers sides</td>\n",
       "    </tr>\n",
       "    <tr>\n",
       "      <th>8</th>\n",
       "      <td>Shin Ramyun Noodle Soup</td>\n",
       "      <td>dry goods pasta</td>\n",
       "      <td>instant foods</td>\n",
       "    </tr>\n",
       "    <tr>\n",
       "      <th>9</th>\n",
       "      <td>Mini Crab Cakes</td>\n",
       "      <td>frozen</td>\n",
       "      <td>frozen meals</td>\n",
       "    </tr>\n",
       "    <tr>\n",
       "      <th>10</th>\n",
       "      <td>Breaded Chicken Tenders</td>\n",
       "      <td>frozen</td>\n",
       "      <td>frozen meat seafood</td>\n",
       "    </tr>\n",
       "    <tr>\n",
       "      <th>11</th>\n",
       "      <td>Grillers Patties Cheddar Cheese &amp; Bacon</td>\n",
       "      <td>frozen</td>\n",
       "      <td>frozen meat seafood</td>\n",
       "    </tr>\n",
       "    <tr>\n",
       "      <th>12</th>\n",
       "      <td>Breaded Onion Rings</td>\n",
       "      <td>frozen</td>\n",
       "      <td>frozen appetizers sides</td>\n",
       "    </tr>\n",
       "    <tr>\n",
       "      <th>13</th>\n",
       "      <td>Breaded Jalapeno Peppers</td>\n",
       "      <td>frozen</td>\n",
       "      <td>frozen appetizers sides</td>\n",
       "    </tr>\n",
       "  </tbody>\n",
       "</table>\n",
       "</div>"
      ],
      "text/plain": [
       "                               product_name       department  \\\n",
       "0                    Asian Noodles Teriyaki    international   \n",
       "1                       Mini Beef Corn Dogs           frozen   \n",
       "2        New York City Slices Gourmet Pizza           frozen   \n",
       "3            Hot Buffalo Wings Potato Chips             deli   \n",
       "4                        Twice Baked Potato             deli   \n",
       "5    Tuscan Inspired Uncured Two Meat Pizza           frozen   \n",
       "6                Broccoli & Cheese Couscous  dry goods pasta   \n",
       "7                         Chicken Empanadas           frozen   \n",
       "8                   Shin Ramyun Noodle Soup  dry goods pasta   \n",
       "9                           Mini Crab Cakes           frozen   \n",
       "10                  Breaded Chicken Tenders           frozen   \n",
       "11  Grillers Patties Cheddar Cheese & Bacon           frozen   \n",
       "12                      Breaded Onion Rings           frozen   \n",
       "13                 Breaded Jalapeno Peppers           frozen   \n",
       "\n",
       "                      aisle  \n",
       "0               asian foods  \n",
       "1   frozen appetizers sides  \n",
       "2              frozen pizza  \n",
       "3            prepared meals  \n",
       "4            prepared meals  \n",
       "5              frozen meals  \n",
       "6             instant foods  \n",
       "7   frozen appetizers sides  \n",
       "8             instant foods  \n",
       "9              frozen meals  \n",
       "10      frozen meat seafood  \n",
       "11      frozen meat seafood  \n",
       "12  frozen appetizers sides  \n",
       "13  frozen appetizers sides  "
      ]
     },
     "execution_count": 172,
     "metadata": {},
     "output_type": "execute_result"
    }
   ],
   "source": [
    "compose_basket_by_cart(prod_vector)"
   ]
  },
  {
   "cell_type": "markdown",
   "id": "bf1fb4a5-6492-4511-8460-95a74d3b6ba0",
   "metadata": {},
   "source": [
    "## User embedding "
   ]
  },
  {
   "cell_type": "code",
   "execution_count": 125,
   "id": "39cff93c-a52e-41d4-baf6-104461434cce",
   "metadata": {},
   "outputs": [
    {
     "name": "stdout",
     "output_type": "stream",
     "text": [
      "CPU times: user 13.8 s, sys: 32.9 s, total: 46.7 s\n",
      "Wall time: 1min\n"
     ]
    }
   ],
   "source": [
    "%%time\n",
    "def func_avg(x):\n",
    "    return np.average(x, axis=0)\n",
    "\n",
    "user_basket = pd.merge(df_order_baskets, orders, on=\"order_id\", how='inner')\n",
    "\n",
    "df_user_basket = user_basket[['user_id', 'vectors', 'product_id']]\n",
    "df_user_basket = df_user_basket.groupby('user_id').agg(list)\n",
    "df_user_basket['vectors'] = df_user_basket['vectors'].agg(func_avg).apply(tuple)\n",
    "df_user_basket['product_id'] = df_user_basket['product_id'].agg(lambda x: list(set([item for sublist in x for item in sublist])))\n",
    "df_user_basket = df_user_basket.reset_index()"
   ]
  },
  {
   "cell_type": "code",
   "execution_count": 140,
   "id": "81e6ce66-76fd-49e2-9970-4cfbd421dc69",
   "metadata": {},
   "outputs": [
    {
     "name": "stdout",
     "output_type": "stream",
     "text": [
      "CPU times: user 6.97 s, sys: 434 ms, total: 7.41 s\n",
      "Wall time: 5.54 s\n"
     ]
    }
   ],
   "source": [
    "%%time\n",
    "# Specify the metric to be used for computing distances. \n",
    "u = annoy_build(df_user_basket, 'user_id', len(df_user_basket.vectors[0]))"
   ]
  },
  {
   "cell_type": "code",
   "execution_count": 158,
   "id": "a507c1cf-607c-496f-a9c9-fc55c21efa6b",
   "metadata": {},
   "outputs": [
    {
     "name": "stdout",
     "output_type": "stream",
     "text": [
      "CPU times: user 10.1 s, sys: 43.7 s, total: 53.7 s\n",
      "Wall time: 1min 20s\n"
     ]
    }
   ],
   "source": [
    "%%time \n",
    "### Train `annoy` for `daytime` data\n",
    "daytime_basket = pd.merge(df_order_baskets, orders, on='order_id', how='inner')\n",
    "daytime_basket = daytime_basket.groupby('daytime').apply(lambda x: [list(x['vectors']), list(x['product_id'])]).apply(pd.Series)\n",
    "daytime_basket.columns =['vectors','product_id']\n",
    "daytime_basket['vectors'] = daytime_basket['vectors'].apply(lambda x: tuple(np.average(x, axis=0)))\n",
    "daytime_basket['product_id'] = daytime_basket['product_id'].apply(lambda x: [item for sublist in x for item in sublist])\n",
    "daytime_basket['product_id'] = daytime_basket['product_id'].apply(lambda x: list(set(x)))\n",
    "df_daytime_basket = daytime_basket.reset_index().reset_index().rename(columns={'index':'daytime_id'})\n",
    "# Specify the metric to be used for computing distances. \n",
    "d = annoy_build(df_daytime_basket, 'daytime_id', len(df_daytime_basket.vectors[0]))"
   ]
  },
  {
   "cell_type": "markdown",
   "id": "90308071-ee95-4712-bfd0-cc3c0d3c35f4",
   "metadata": {},
   "source": [
    "## Testing Embeddings"
   ]
  },
  {
   "cell_type": "code",
   "execution_count": 173,
   "id": "f65e2293-2bcc-4637-94cd-c6c3ac2bbc08",
   "metadata": {},
   "outputs": [],
   "source": [
    "# Inputs can be of multiple types\n",
    "# 1. Only products input - Get centroid vector of products, then find carts that are similar and rank products\n",
    "# 2. Only user_ids input - Get centroid vector of user_ids, then find carts that are similar and rank products\n",
    "# 3. Both products and user_ids as input - Get products and user centroid, then find products by product and dot product with user centroid to find best products\n",
    "# 4. No input - Find products based on daytime"
   ]
  },
  {
   "cell_type": "code",
   "execution_count": 190,
   "id": "49b03861-754b-4bc2-9ba8-51fe4240a3a8",
   "metadata": {},
   "outputs": [],
   "source": [
    "product_list = [47136, 2529, 8990]\n",
    "user_list = [1,2,3]\n",
    "daytime = 127"
   ]
  },
  {
   "cell_type": "code",
   "execution_count": 184,
   "id": "55dcb241-dc73-459c-9722-588ccbbffc2b",
   "metadata": {},
   "outputs": [],
   "source": [
    "def rank_by_euclidean(df, vector):\n",
    "    df['distance'] = df['vectors'].apply(lambda x: np.linalg.norm(x - vector))\n",
    "    df = df.sort_values('distance', ascending=False)\n",
    "    return df\n",
    "\n",
    "def rank_by_dot_product(df, vector):\n",
    "    df['dot_prod'] = df['vectors'].apply(lambda x: np.dot(x, vector))\n",
    "    df = df.sort_values('dot_prod', ascending=False)\n",
    "    return df\n",
    "\n",
    "def compose_basket_by_cart(product_vector, input = None, n_items = 15, method='euclidean', n_neighbours = 100):\n",
    "    order_list = b.get_nns_by_vector(product_vector, n_items)\n",
    "    fpl = []\n",
    "    for order in order_list:\n",
    "        fpl = fpl + order_baskets[order]\n",
    "    \n",
    "    fpl = list(set(fpl))\n",
    "\n",
    "    sel_df = pd.DataFrame({\"product_id\": fpl}).merge(products, on='product_id', how='inner')\n",
    "    if method == 'euclidean':\n",
    "        sel_df = rank_by_euclidean(sel_df, prod_vector)\n",
    "    else:  \n",
    "        sel_df = dot_prod_rank(sel_df, prod_vector)\n",
    "    if input is not None:\n",
    "        sel_df = sel_df[~sel_df.product_id.isin(input)]\n",
    "    sel_df = sel_df[['product_name', 'department', 'aisle']].head(n_items).reset_index(drop=True)\n",
    "    return sel_df"
   ]
  },
  {
   "cell_type": "code",
   "execution_count": 201,
   "id": "b2eca811-ead2-436b-a69a-4b0d89c02082",
   "metadata": {},
   "outputs": [],
   "source": [
    "def get_centroid(vector_list):\n",
    "    return np.average(vector_list, axis=0)\n",
    "\n",
    "def get_centroid_by_annoy_obj(obj_ann, obj_list):\n",
    "    w2v_list = []\n",
    "    for obj_id in obj_list:\n",
    "        w2v_list.append(obj_ann.get_item_vector(obj_id))\n",
    "    return get_centroid(w2v_list)\n",
    "\n",
    "def get_basket_by_product_list(product_list, n_items = 15):\n",
    "    selected = products[products.product_id.isin(product_list)]\n",
    "    prod_vector = get_centroid(selected.vectors.tolist())\n",
    "    return compose_basket_by_cart(prod_vector, input=selected.product_name.tolist(), n_items=n_items)\n",
    "\n",
    "def get_basket_by_user_list(user_list, n_items = 15):\n",
    "    user_vector = get_centroid_by_annoy_obj(u, user_list)\n",
    "    return compose_basket_by_cart(user_vector, n_items=n_items)\n",
    "\n",
    "def get_basket_by_user_product(product_list, user_list, n_items = 15):\n",
    "    # Get product vector\n",
    "    selected = products[products.product_id.isin(product_list)]\n",
    "    prod_vector = get_centroid(selected.vectors.tolist())\n",
    "    # Get 1000 nearest products\n",
    "    similar_prod_1000 = p.get_nns_by_vector(prod_vector, 1000)\n",
    "    sel_df = pd.DataFrame({\"product_id\": similar_prod_1000}).merge(products, on='product_id', how='inner')\n",
    "\n",
    "    # Get user vector\n",
    "    user_vector = get_centroid_by_annoy_obj(u, user_list)\n",
    "    # Rank 1000 products by aggregated user vector\n",
    "    sel_df = rank_by_euclidean(sel_df, user_vector)\n",
    "    # Remove input products\n",
    "    sel_df = sel_df[~sel_df.product_id.isin(selected.product_name.tolist())]\n",
    "    # Return top n\n",
    "    sel_df = sel_df[['product_name', 'department', 'aisle']].head(n_items).reset_index(drop=True)\n",
    "    return sel_df\n",
    "\n",
    "def get_basket_by_daytime(daytime_id):\n",
    "    pass"
   ]
  },
  {
   "cell_type": "code",
   "execution_count": 215,
   "id": "457adef2-be54-47a0-ae51-0d8f7726d8aa",
   "metadata": {},
   "outputs": [
    {
     "data": {
      "text/plain": [
       "74"
      ]
     },
     "execution_count": 215,
     "metadata": {},
     "output_type": "execute_result"
    }
   ],
   "source": [
    "len(prod_vector)"
   ]
  },
  {
   "cell_type": "code",
   "execution_count": 205,
   "id": "35411c4b-e495-49ee-9505-bc34c32a1572",
   "metadata": {},
   "outputs": [],
   "source": [
    "#get_basket_by_user_product(product_list, user_list)"
   ]
  },
  {
   "cell_type": "code",
   "execution_count": 206,
   "id": "2462f215-5c75-4bab-a1c5-2e7592fd2077",
   "metadata": {},
   "outputs": [],
   "source": [
    "#get_basket_by_product_list(product_list)"
   ]
  },
  {
   "cell_type": "code",
   "execution_count": 207,
   "id": "8fdb3431-3e47-4d3c-a7c8-6509cc1f281a",
   "metadata": {},
   "outputs": [],
   "source": [
    "#get_basket_by_user_list(user_list)"
   ]
  },
  {
   "cell_type": "markdown",
   "id": "343bacc0-3154-4013-866a-e46048ccda29",
   "metadata": {},
   "source": [
    "## Save objects"
   ]
  },
  {
   "cell_type": "code",
   "execution_count": 208,
   "id": "7ab95cfe-fb27-4e48-837b-8123eec5b274",
   "metadata": {},
   "outputs": [
    {
     "name": "stdout",
     "output_type": "stream",
     "text": [
      "CPU times: user 4.78 ms, sys: 1.22 s, total: 1.23 s\n",
      "Wall time: 6.11 s\n"
     ]
    }
   ],
   "source": [
    "%%time\n",
    "### This section will save resources\n",
    "### These resources can later be used by an app to run the engine\n",
    "\n",
    "save_path = os.path.join(os.path.dirname(os.getcwd()), 'res')\n",
    "\n",
    "def save_annoy(obj, n):\n",
    "    path = os.path.join(save_path, n + \".ann\")\n",
    "    obj.save(path)\n",
    "\n",
    "## Save annoy objects\n",
    "save_annoy(p, \"product\")\n",
    "save_annoy(u, \"user\")\n",
    "save_annoy(b, \"basket\")\n",
    "#save_annoy(d, \"daytime\")"
   ]
  },
  {
   "cell_type": "code",
   "execution_count": 214,
   "id": "4ecf4b79-5419-4108-8e39-c6c6b6c7ceba",
   "metadata": {},
   "outputs": [
    {
     "name": "stdout",
     "output_type": "stream",
     "text": [
      "/Users/mrpapa/upwork/nlp/res/products.pkl saved !\n",
      "/Users/mrpapa/upwork/nlp/res/order_baskets.pkl saved !\n",
      "CPU times: user 5.99 s, sys: 1.11 s, total: 7.09 s\n",
      "Wall time: 7.88 s\n"
     ]
    }
   ],
   "source": [
    "%%time\n",
    "### Save dataframes to avoid pre-processing\n",
    "def save_dataframe(obj, n):\n",
    "    path = os.path.join(save_path, n + \".pkl\")\n",
    "    obj.to_pickle(path)\n",
    "    print(path, \"saved !\")\n",
    "\n",
    "save_dataframe(products, 'products')\n",
    "save_dataframe(order_baskets, 'order_baskets')\n",
    "#save_dataframe(df_daytime_basket, 'df_daytime_basket')"
   ]
  },
  {
   "cell_type": "code",
   "execution_count": null,
   "id": "a03adf21-2d88-4a21-a94b-999296da63ca",
   "metadata": {},
   "outputs": [],
   "source": []
  }
 ],
 "metadata": {
  "kernelspec": {
   "display_name": "Python 3 (ipykernel)",
   "language": "python",
   "name": "python3"
  },
  "language_info": {
   "codemirror_mode": {
    "name": "ipython",
    "version": 3
   },
   "file_extension": ".py",
   "mimetype": "text/x-python",
   "name": "python",
   "nbconvert_exporter": "python",
   "pygments_lexer": "ipython3",
   "version": "3.8.16"
  }
 },
 "nbformat": 4,
 "nbformat_minor": 5
}
